{
 "cells": [
  {
   "cell_type": "code",
   "execution_count": 1,
   "metadata": {
    "ExecuteTime": {
     "end_time": "2024-01-20T19:59:15.207073700Z",
     "start_time": "2024-01-20T19:59:13.044459700Z"
    }
   },
   "outputs": [],
   "source": [
    "from pathlib import Path\n",
    "\n",
    "import networkx as nx\n",
    "import pandas as pd\n",
    "import numpy as np\n",
    "\n",
    "import matplotlib.pyplot as plt\n",
    "from sklearn.manifold import TSNE\n",
    "from sklearn.model_selection import train_test_split\n",
    "from sklearn.svm import SVC"
   ]
  },
  {
   "cell_type": "markdown",
   "source": [
    "# 1. Data Loading and Visualization"
   ],
   "metadata": {
    "collapsed": false
   }
  },
  {
   "cell_type": "code",
   "execution_count": 2,
   "metadata": {
    "ExecuteTime": {
     "end_time": "2024-01-20T19:59:17.557138300Z",
     "start_time": "2024-01-20T19:59:17.144154200Z"
    }
   },
   "outputs": [
    {
     "name": "stdout",
     "output_type": "stream",
     "text": [
      "The shape of the final_data is (27718, 6).\n"
     ]
    },
    {
     "data": {
      "text/plain": "                                             article  \\\n0  https://medium.com/@maniakacademy/code-demo-sh...   \n1  https://medium.com/towards-artificial-intellig...   \n2  https://medium.com/@sarafparam/transformers-fo...   \n3  https://medium.com/towards-data-science/review...   \n4  https://medium.com/towards-data-science/a-comp...   \n\n                                               title  \\\n0  Code/Demo Share: Palo Alto Firewall Network In...   \n1              Clustering using Social Graph Network   \n2                       Transformers for Time-Series   \n3  Reviewing A/B Testing Course by Google on Udacity   \n4  A Comprehensive Hands-on Guide to Transfer Lea...   \n\n                                            subtitle                 author  \\\n0  IP is broken as a unit of Control! IDENTITY as...       Sebastian Maniak   \n1  A Social Graph Network can be formed when ther...  Naveed Ahmed Janvekar   \n2  Forecasting still remains to be dominated by S...            Param Saraf   \n3  Read to find out how A/B tests are performed a...      Suyash Maheshwari   \n4  Deep Learning on Steroids with the Power of Kn...   Dipanjan (DJ) Sarkar   \n\n         date                                               list  \n0  2022-08-17  https://medium.com/@zemmali1990/list/aws-49f68...  \n1  2022-01-29  https://medium.com/@TomaszCieplak/list/graph-d...  \n2  2020-10-20  https://medium.com/@sergiobonato/list/time-ser...  \n3  2020-05-10  https://medium.com/@online.rajib/list/ml-c2cac...  \n4  2018-11-14  https://medium.com/@farhanhanavi07/list/deep-l...  ",
      "text/html": "<div>\n<style scoped>\n    .dataframe tbody tr th:only-of-type {\n        vertical-align: middle;\n    }\n\n    .dataframe tbody tr th {\n        vertical-align: top;\n    }\n\n    .dataframe thead th {\n        text-align: right;\n    }\n</style>\n<table border=\"1\" class=\"dataframe\">\n  <thead>\n    <tr style=\"text-align: right;\">\n      <th></th>\n      <th>article</th>\n      <th>title</th>\n      <th>subtitle</th>\n      <th>author</th>\n      <th>date</th>\n      <th>list</th>\n    </tr>\n  </thead>\n  <tbody>\n    <tr>\n      <th>0</th>\n      <td>https://medium.com/@maniakacademy/code-demo-sh...</td>\n      <td>Code/Demo Share: Palo Alto Firewall Network In...</td>\n      <td>IP is broken as a unit of Control! IDENTITY as...</td>\n      <td>Sebastian Maniak</td>\n      <td>2022-08-17</td>\n      <td>https://medium.com/@zemmali1990/list/aws-49f68...</td>\n    </tr>\n    <tr>\n      <th>1</th>\n      <td>https://medium.com/towards-artificial-intellig...</td>\n      <td>Clustering using Social Graph Network</td>\n      <td>A Social Graph Network can be formed when ther...</td>\n      <td>Naveed Ahmed Janvekar</td>\n      <td>2022-01-29</td>\n      <td>https://medium.com/@TomaszCieplak/list/graph-d...</td>\n    </tr>\n    <tr>\n      <th>2</th>\n      <td>https://medium.com/@sarafparam/transformers-fo...</td>\n      <td>Transformers for Time-Series</td>\n      <td>Forecasting still remains to be dominated by S...</td>\n      <td>Param Saraf</td>\n      <td>2020-10-20</td>\n      <td>https://medium.com/@sergiobonato/list/time-ser...</td>\n    </tr>\n    <tr>\n      <th>3</th>\n      <td>https://medium.com/towards-data-science/review...</td>\n      <td>Reviewing A/B Testing Course by Google on Udacity</td>\n      <td>Read to find out how A/B tests are performed a...</td>\n      <td>Suyash Maheshwari</td>\n      <td>2020-05-10</td>\n      <td>https://medium.com/@online.rajib/list/ml-c2cac...</td>\n    </tr>\n    <tr>\n      <th>4</th>\n      <td>https://medium.com/towards-data-science/a-comp...</td>\n      <td>A Comprehensive Hands-on Guide to Transfer Lea...</td>\n      <td>Deep Learning on Steroids with the Power of Kn...</td>\n      <td>Dipanjan (DJ) Sarkar</td>\n      <td>2018-11-14</td>\n      <td>https://medium.com/@farhanhanavi07/list/deep-l...</td>\n    </tr>\n  </tbody>\n</table>\n</div>"
     },
     "execution_count": 2,
     "metadata": {},
     "output_type": "execute_result"
    }
   ],
   "source": [
    "final_data = pd.read_csv(\"data/pipeline_assignment_data/full_data_without_labels.csv\")\n",
    "print(f'The shape of the final_data is {final_data.shape}.')\n",
    "final_data.head()"
   ]
  },
  {
   "cell_type": "code",
   "execution_count": 3,
   "metadata": {
    "ExecuteTime": {
     "end_time": "2024-01-20T19:59:18.215351400Z",
     "start_time": "2024-01-20T19:59:17.896335300Z"
    }
   },
   "outputs": [
    {
     "name": "stdout",
     "output_type": "stream",
     "text": [
      "The shape of the train is (22382, 8).\n"
     ]
    },
    {
     "data": {
      "text/plain": "   index                                            article  \\\n0   3279  https://medium.com/dev-genius/how-to-convert-m...   \n1  26139  https://medium.com/towards-data-science/a-cust...   \n2   9946  https://medium.com/towards-data-science/5-book...   \n3   2353  https://medium.com/@unsuitable001/package-cron...   \n4   8266  https://medium.com/towards-data-science/statis...   \n\n                                               title  \\\n0         How to Convert MP4 Videos to Animated GIFs   \n1  Custom SpaCy Model Deployment with AWS ECR, Sa...   \n2      5 Books To Grow As A Leader In Data Analytics   \n3  package:cronet, an HTTP Dart/Flutter package w...   \n4  Statistics in Python — Collinearity and Multic...   \n\n                                            subtitle            author  \\\n0  With Kazam and ffmpeg on GNU/Linux systems — I...  Jordi Bassaganas   \n1  A tutorial on how to deploy SpaCy with AWS. — ...             Cheng   \n2  Are you a senior analyst growing towards a man...    Valentin Mucke   \n3  My Dart Google Summer of Code 2021 experience....   Soumyadip Monda   \n4  Understand how to discover multicollinearity i...      Wei-Meng Lee   \n\n         date                                               list  \\\n0  2022-06-02  https://medium.com/@zzpzaf.se/list/var-4f4a92d...   \n1  2021-06-04  https://medium.com/@munivinayk/list/nlp-242e66...   \n2  2022-01-15  https://medium.com/@Nikhil_Phadtare/list/books...   \n3  2021-08-21  https://medium.com/@djibi.jb/list/flutter-e53c...   \n4  2021-10-01  https://medium.com/@abhiagar/list/stats-765e27...   \n\n                    labels  \n0     software-development  \n1  artificial-intelligence  \n2  artificial-intelligence  \n3     software-development  \n4     software-development  ",
      "text/html": "<div>\n<style scoped>\n    .dataframe tbody tr th:only-of-type {\n        vertical-align: middle;\n    }\n\n    .dataframe tbody tr th {\n        vertical-align: top;\n    }\n\n    .dataframe thead th {\n        text-align: right;\n    }\n</style>\n<table border=\"1\" class=\"dataframe\">\n  <thead>\n    <tr style=\"text-align: right;\">\n      <th></th>\n      <th>index</th>\n      <th>article</th>\n      <th>title</th>\n      <th>subtitle</th>\n      <th>author</th>\n      <th>date</th>\n      <th>list</th>\n      <th>labels</th>\n    </tr>\n  </thead>\n  <tbody>\n    <tr>\n      <th>0</th>\n      <td>3279</td>\n      <td>https://medium.com/dev-genius/how-to-convert-m...</td>\n      <td>How to Convert MP4 Videos to Animated GIFs</td>\n      <td>With Kazam and ffmpeg on GNU/Linux systems — I...</td>\n      <td>Jordi Bassaganas</td>\n      <td>2022-06-02</td>\n      <td>https://medium.com/@zzpzaf.se/list/var-4f4a92d...</td>\n      <td>software-development</td>\n    </tr>\n    <tr>\n      <th>1</th>\n      <td>26139</td>\n      <td>https://medium.com/towards-data-science/a-cust...</td>\n      <td>Custom SpaCy Model Deployment with AWS ECR, Sa...</td>\n      <td>A tutorial on how to deploy SpaCy with AWS. — ...</td>\n      <td>Cheng</td>\n      <td>2021-06-04</td>\n      <td>https://medium.com/@munivinayk/list/nlp-242e66...</td>\n      <td>artificial-intelligence</td>\n    </tr>\n    <tr>\n      <th>2</th>\n      <td>9946</td>\n      <td>https://medium.com/towards-data-science/5-book...</td>\n      <td>5 Books To Grow As A Leader In Data Analytics</td>\n      <td>Are you a senior analyst growing towards a man...</td>\n      <td>Valentin Mucke</td>\n      <td>2022-01-15</td>\n      <td>https://medium.com/@Nikhil_Phadtare/list/books...</td>\n      <td>artificial-intelligence</td>\n    </tr>\n    <tr>\n      <th>3</th>\n      <td>2353</td>\n      <td>https://medium.com/@unsuitable001/package-cron...</td>\n      <td>package:cronet, an HTTP Dart/Flutter package w...</td>\n      <td>My Dart Google Summer of Code 2021 experience....</td>\n      <td>Soumyadip Monda</td>\n      <td>2021-08-21</td>\n      <td>https://medium.com/@djibi.jb/list/flutter-e53c...</td>\n      <td>software-development</td>\n    </tr>\n    <tr>\n      <th>4</th>\n      <td>8266</td>\n      <td>https://medium.com/towards-data-science/statis...</td>\n      <td>Statistics in Python — Collinearity and Multic...</td>\n      <td>Understand how to discover multicollinearity i...</td>\n      <td>Wei-Meng Lee</td>\n      <td>2021-10-01</td>\n      <td>https://medium.com/@abhiagar/list/stats-765e27...</td>\n      <td>software-development</td>\n    </tr>\n  </tbody>\n</table>\n</div>"
     },
     "execution_count": 3,
     "metadata": {},
     "output_type": "execute_result"
    }
   ],
   "source": [
    "train = pd.read_csv(\"data/pipeline_assignment_data/train.csv\")\n",
    "print(f'The shape of the train is {train.shape}.')\n",
    "train.head()"
   ]
  },
  {
   "cell_type": "code",
   "execution_count": 4,
   "metadata": {
    "ExecuteTime": {
     "end_time": "2024-01-20T19:59:18.848522600Z",
     "start_time": "2024-01-20T19:59:18.759065500Z"
    }
   },
   "outputs": [
    {
     "name": "stdout",
     "output_type": "stream",
     "text": [
      "The shape of the test is (3950, 8).\n"
     ]
    },
    {
     "data": {
      "text/plain": "   index                                            article  \\\n0   2291  https://medium.com/towards-data-science/how-to...   \n1   7292  https://medium.com/towards-data-science/surviv...   \n2   6768  https://medium.com/experience-stack/embrace-co...   \n3  15003  https://medium.com/towards-data-science/every-...   \n4  19782  https://medium.com/towards-data-science/macroe...   \n\n                                               title  \\\n0  How to Use the IBM Watson Tone Analyzer to Per...   \n1  Survival Analysis: Intuition & Implementation ...   \n2                        Embrace Complexity (Part 1)   \n3  Every Complex DataFrame Manipulation, Explaine...   \n4  Macroeconomic & Financial Factors and Ordinary...   \n\n                                            subtitle           author  \\\n0  How to use the IBM Watson Artificial Intellige...  Graham Harrison   \n1  There is a statistical technique which can ans...    Anurag Pandey   \n2  Why all organisations should build internal ne...       Tony Seale   \n3  Melts, pivots, joins, explodes, & more — Panda...         Andre Ye   \n4  Econometrics model using Arbitrage Pricing The...     Sarit Maitra   \n\n         date                                               list  \\\n0  2022-01-02  https://medium.com/@4ndres.gaviria/list/nlp-to...   \n1  2019-01-06  https://medium.com/@jz5246/list/analytics-559c...   \n2  2022-02-04  https://medium.com/@yasha.brener/list/data-man...   \n3  2020-07-22  https://medium.com/@4ndres.gaviria/list/dataop...   \n4  2020-06-27  https://medium.com/@halo9pan/list/quantitative...   \n\n                    labels  \n0  artificial-intelligence  \n1  artificial-intelligence  \n2     software-development  \n3  artificial-intelligence  \n4     software-development  ",
      "text/html": "<div>\n<style scoped>\n    .dataframe tbody tr th:only-of-type {\n        vertical-align: middle;\n    }\n\n    .dataframe tbody tr th {\n        vertical-align: top;\n    }\n\n    .dataframe thead th {\n        text-align: right;\n    }\n</style>\n<table border=\"1\" class=\"dataframe\">\n  <thead>\n    <tr style=\"text-align: right;\">\n      <th></th>\n      <th>index</th>\n      <th>article</th>\n      <th>title</th>\n      <th>subtitle</th>\n      <th>author</th>\n      <th>date</th>\n      <th>list</th>\n      <th>labels</th>\n    </tr>\n  </thead>\n  <tbody>\n    <tr>\n      <th>0</th>\n      <td>2291</td>\n      <td>https://medium.com/towards-data-science/how-to...</td>\n      <td>How to Use the IBM Watson Tone Analyzer to Per...</td>\n      <td>How to use the IBM Watson Artificial Intellige...</td>\n      <td>Graham Harrison</td>\n      <td>2022-01-02</td>\n      <td>https://medium.com/@4ndres.gaviria/list/nlp-to...</td>\n      <td>artificial-intelligence</td>\n    </tr>\n    <tr>\n      <th>1</th>\n      <td>7292</td>\n      <td>https://medium.com/towards-data-science/surviv...</td>\n      <td>Survival Analysis: Intuition &amp; Implementation ...</td>\n      <td>There is a statistical technique which can ans...</td>\n      <td>Anurag Pandey</td>\n      <td>2019-01-06</td>\n      <td>https://medium.com/@jz5246/list/analytics-559c...</td>\n      <td>artificial-intelligence</td>\n    </tr>\n    <tr>\n      <th>2</th>\n      <td>6768</td>\n      <td>https://medium.com/experience-stack/embrace-co...</td>\n      <td>Embrace Complexity (Part 1)</td>\n      <td>Why all organisations should build internal ne...</td>\n      <td>Tony Seale</td>\n      <td>2022-02-04</td>\n      <td>https://medium.com/@yasha.brener/list/data-man...</td>\n      <td>software-development</td>\n    </tr>\n    <tr>\n      <th>3</th>\n      <td>15003</td>\n      <td>https://medium.com/towards-data-science/every-...</td>\n      <td>Every Complex DataFrame Manipulation, Explaine...</td>\n      <td>Melts, pivots, joins, explodes, &amp; more — Panda...</td>\n      <td>Andre Ye</td>\n      <td>2020-07-22</td>\n      <td>https://medium.com/@4ndres.gaviria/list/dataop...</td>\n      <td>artificial-intelligence</td>\n    </tr>\n    <tr>\n      <th>4</th>\n      <td>19782</td>\n      <td>https://medium.com/towards-data-science/macroe...</td>\n      <td>Macroeconomic &amp; Financial Factors and Ordinary...</td>\n      <td>Econometrics model using Arbitrage Pricing The...</td>\n      <td>Sarit Maitra</td>\n      <td>2020-06-27</td>\n      <td>https://medium.com/@halo9pan/list/quantitative...</td>\n      <td>software-development</td>\n    </tr>\n  </tbody>\n</table>\n</div>"
     },
     "execution_count": 4,
     "metadata": {},
     "output_type": "execute_result"
    }
   ],
   "source": [
    "test = pd.read_csv(\"data/pipeline_assignment_data/test.csv\")\n",
    "print(f'The shape of the test is {test.shape}.')\n",
    "test.head()"
   ]
  },
  {
   "cell_type": "code",
   "execution_count": 5,
   "metadata": {
    "ExecuteTime": {
     "end_time": "2024-01-20T19:59:19.520504200Z",
     "start_time": "2024-01-20T19:59:19.490396Z"
    }
   },
   "outputs": [
    {
     "data": {
      "text/plain": "labels\nsoftware-development       11586\nartificial-intelligence    10646\nux                           150\nName: count, dtype: int64"
     },
     "execution_count": 5,
     "metadata": {},
     "output_type": "execute_result"
    }
   ],
   "source": [
    "train[\"labels\"].value_counts()"
   ]
  },
  {
   "cell_type": "code",
   "execution_count": 6,
   "metadata": {
    "ExecuteTime": {
     "end_time": "2024-01-20T19:59:20.289560500Z",
     "start_time": "2024-01-20T19:59:20.268554Z"
    }
   },
   "outputs": [
    {
     "data": {
      "text/plain": "labels\nsoftware-development       2022\nartificial-intelligence    1899\nux                           29\nName: count, dtype: int64"
     },
     "execution_count": 6,
     "metadata": {},
     "output_type": "execute_result"
    }
   ],
   "source": [
    "test[\"labels\"].value_counts()"
   ]
  },
  {
   "cell_type": "code",
   "outputs": [
    {
     "name": "stdout",
     "output_type": "stream",
     "text": [
      "The shape of the kaggle_train is (26332, 8).\n"
     ]
    },
    {
     "data": {
      "text/plain": "   index                                            article  \\\n0   4293  https://medium.com/towards-data-science/the-jo...   \n1   9375  https://medium.com/@daratanxe/text-analysis-of...   \n2   8518  https://medium.com/@steelkiwi/how-to-build-an-...   \n3   7515  https://medium.com/towards-data-science/spearm...   \n4   2718  https://medium.com/lyft-engineering/a-review-o...   \n\n                                               title  \\\n0   The Joy of A/B Testing, Part II: Advanced Topics   \n1                    Text Analysis of The Good Place   \n2  How to Build an Educational Platform for Kids ...   \n3  Spearman coefficient: Tool for a generalized c...   \n4  A Review of Multi-Armed Bandits Applications a...   \n\n                                            subtitle              author  \\\n0  Cookies and privacy, interleaving experiments,...      Samuel Flender   \n1  Exploring NBC’s The Good Place with Text Analy...            Dara Tan   \n2  — Originally published on Steelkiwi Have you e...      SteelKiwi Inc.   \n3  Linear relationships are not all a correlation...  Tirthajyoti Sarkar   \n4  By Sara Smoot, Alex Contryman and Yanqiao Wang...        Yanqiao Wang   \n\n         date                                               list  \\\n0  2022-08-13  https://medium.com/@tomwillard/list/data-scien...   \n1  2020-10-19  https://medium.com/@gurumurthi/list/nlp-b43703...   \n2  2022-07-01  https://medium.com/@kanivel/list/app-developme...   \n3  2021-11-01  https://medium.com/@jstart.james/list/signal-p...   \n4  2023-01-23  https://medium.com/@kishorkukreja/list/causali...   \n\n                    labels  \n0  artificial-intelligence  \n1     software-development  \n2     software-development  \n3  artificial-intelligence  \n4  artificial-intelligence  ",
      "text/html": "<div>\n<style scoped>\n    .dataframe tbody tr th:only-of-type {\n        vertical-align: middle;\n    }\n\n    .dataframe tbody tr th {\n        vertical-align: top;\n    }\n\n    .dataframe thead th {\n        text-align: right;\n    }\n</style>\n<table border=\"1\" class=\"dataframe\">\n  <thead>\n    <tr style=\"text-align: right;\">\n      <th></th>\n      <th>index</th>\n      <th>article</th>\n      <th>title</th>\n      <th>subtitle</th>\n      <th>author</th>\n      <th>date</th>\n      <th>list</th>\n      <th>labels</th>\n    </tr>\n  </thead>\n  <tbody>\n    <tr>\n      <th>0</th>\n      <td>4293</td>\n      <td>https://medium.com/towards-data-science/the-jo...</td>\n      <td>The Joy of A/B Testing, Part II: Advanced Topics</td>\n      <td>Cookies and privacy, interleaving experiments,...</td>\n      <td>Samuel Flender</td>\n      <td>2022-08-13</td>\n      <td>https://medium.com/@tomwillard/list/data-scien...</td>\n      <td>artificial-intelligence</td>\n    </tr>\n    <tr>\n      <th>1</th>\n      <td>9375</td>\n      <td>https://medium.com/@daratanxe/text-analysis-of...</td>\n      <td>Text Analysis of The Good Place</td>\n      <td>Exploring NBC’s The Good Place with Text Analy...</td>\n      <td>Dara Tan</td>\n      <td>2020-10-19</td>\n      <td>https://medium.com/@gurumurthi/list/nlp-b43703...</td>\n      <td>software-development</td>\n    </tr>\n    <tr>\n      <th>2</th>\n      <td>8518</td>\n      <td>https://medium.com/@steelkiwi/how-to-build-an-...</td>\n      <td>How to Build an Educational Platform for Kids ...</td>\n      <td>— Originally published on Steelkiwi Have you e...</td>\n      <td>SteelKiwi Inc.</td>\n      <td>2022-07-01</td>\n      <td>https://medium.com/@kanivel/list/app-developme...</td>\n      <td>software-development</td>\n    </tr>\n    <tr>\n      <th>3</th>\n      <td>7515</td>\n      <td>https://medium.com/towards-data-science/spearm...</td>\n      <td>Spearman coefficient: Tool for a generalized c...</td>\n      <td>Linear relationships are not all a correlation...</td>\n      <td>Tirthajyoti Sarkar</td>\n      <td>2021-11-01</td>\n      <td>https://medium.com/@jstart.james/list/signal-p...</td>\n      <td>artificial-intelligence</td>\n    </tr>\n    <tr>\n      <th>4</th>\n      <td>2718</td>\n      <td>https://medium.com/lyft-engineering/a-review-o...</td>\n      <td>A Review of Multi-Armed Bandits Applications a...</td>\n      <td>By Sara Smoot, Alex Contryman and Yanqiao Wang...</td>\n      <td>Yanqiao Wang</td>\n      <td>2023-01-23</td>\n      <td>https://medium.com/@kishorkukreja/list/causali...</td>\n      <td>artificial-intelligence</td>\n    </tr>\n  </tbody>\n</table>\n</div>"
     },
     "execution_count": 7,
     "metadata": {},
     "output_type": "execute_result"
    }
   ],
   "source": [
    "kaggle_train = pd.read_csv(\"data/pipeline_assignment_data/kaggle_train.csv\")\n",
    "print(f'The shape of the kaggle_train is {kaggle_train.shape}.')\n",
    "kaggle_train.head()"
   ],
   "metadata": {
    "collapsed": false,
    "ExecuteTime": {
     "end_time": "2024-01-20T19:59:21.418592Z",
     "start_time": "2024-01-20T19:59:20.943452Z"
    }
   },
   "execution_count": 7
  },
  {
   "cell_type": "code",
   "outputs": [
    {
     "name": "stdout",
     "output_type": "stream",
     "text": [
      "The shape of the kaggle_test is (1386, 7).\n"
     ]
    },
    {
     "data": {
      "text/plain": "   index                                            article  \\\n0  14793  https://medium.com/dev-genius/ensemble-models-...   \n1  21462  https://medium.com/@savasy-22028/prompting-in-...   \n2  10133  https://medium.com/datadriveninvestor/portfoli...   \n3  16050  https://medium.com/towards-data-science/a-swif...   \n4   3609  https://medium.com/towards-data-science/metric...   \n\n                                               title  \\\n0  Modelling the Growth and Mortality of Broiler ...   \n1  Prompting in NLP: Prompt-based zero-shot learning   \n2  Portfolio Optimization with Python: using SciP...   \n3  A Swift Introduction To Flux For Julia (With C...   \n4  Metric Design for Data Scientists and Business...   \n\n                                            subtitle           author  \\\n0  Using Ensemble Models in R — In this post I wi...  Dr. Marc Jacobs   \n1  Prompt-based learning is getting a new paradig...   Savas Yıldırım   \n2  Introduction Modern Portfolio Theory (MPT) is ...   Ebrahim Pichka   \n3  Building your first gradient model in Julia wi...  Emmett Boudreau   \n4  What’s the hardest part of metric design? — In...  Cassie Kozyrkov   \n\n         date                                               list  \n0  2021-11-12  https://medium.com/@dale.adkins/list/r-tips-tr...  \n1  2022-03-24  https://medium.com/@Digeratus/list/deeplearnin...  \n2  2023-01-18  https://medium.com/@vigguvenki/list/technical-...  \n3  2020-02-25  https://medium.com/@joexgibbs/list/julia-888c9...  \n4  2022-10-23  https://medium.com/@vaibhavb2473/list/stats-an...  ",
      "text/html": "<div>\n<style scoped>\n    .dataframe tbody tr th:only-of-type {\n        vertical-align: middle;\n    }\n\n    .dataframe tbody tr th {\n        vertical-align: top;\n    }\n\n    .dataframe thead th {\n        text-align: right;\n    }\n</style>\n<table border=\"1\" class=\"dataframe\">\n  <thead>\n    <tr style=\"text-align: right;\">\n      <th></th>\n      <th>index</th>\n      <th>article</th>\n      <th>title</th>\n      <th>subtitle</th>\n      <th>author</th>\n      <th>date</th>\n      <th>list</th>\n    </tr>\n  </thead>\n  <tbody>\n    <tr>\n      <th>0</th>\n      <td>14793</td>\n      <td>https://medium.com/dev-genius/ensemble-models-...</td>\n      <td>Modelling the Growth and Mortality of Broiler ...</td>\n      <td>Using Ensemble Models in R — In this post I wi...</td>\n      <td>Dr. Marc Jacobs</td>\n      <td>2021-11-12</td>\n      <td>https://medium.com/@dale.adkins/list/r-tips-tr...</td>\n    </tr>\n    <tr>\n      <th>1</th>\n      <td>21462</td>\n      <td>https://medium.com/@savasy-22028/prompting-in-...</td>\n      <td>Prompting in NLP: Prompt-based zero-shot learning</td>\n      <td>Prompt-based learning is getting a new paradig...</td>\n      <td>Savas Yıldırım</td>\n      <td>2022-03-24</td>\n      <td>https://medium.com/@Digeratus/list/deeplearnin...</td>\n    </tr>\n    <tr>\n      <th>2</th>\n      <td>10133</td>\n      <td>https://medium.com/datadriveninvestor/portfoli...</td>\n      <td>Portfolio Optimization with Python: using SciP...</td>\n      <td>Introduction Modern Portfolio Theory (MPT) is ...</td>\n      <td>Ebrahim Pichka</td>\n      <td>2023-01-18</td>\n      <td>https://medium.com/@vigguvenki/list/technical-...</td>\n    </tr>\n    <tr>\n      <th>3</th>\n      <td>16050</td>\n      <td>https://medium.com/towards-data-science/a-swif...</td>\n      <td>A Swift Introduction To Flux For Julia (With C...</td>\n      <td>Building your first gradient model in Julia wi...</td>\n      <td>Emmett Boudreau</td>\n      <td>2020-02-25</td>\n      <td>https://medium.com/@joexgibbs/list/julia-888c9...</td>\n    </tr>\n    <tr>\n      <th>4</th>\n      <td>3609</td>\n      <td>https://medium.com/towards-data-science/metric...</td>\n      <td>Metric Design for Data Scientists and Business...</td>\n      <td>What’s the hardest part of metric design? — In...</td>\n      <td>Cassie Kozyrkov</td>\n      <td>2022-10-23</td>\n      <td>https://medium.com/@vaibhavb2473/list/stats-an...</td>\n    </tr>\n  </tbody>\n</table>\n</div>"
     },
     "execution_count": 8,
     "metadata": {},
     "output_type": "execute_result"
    }
   ],
   "source": [
    "kaggle_test = pd.read_csv(\"data/pipeline_assignment_data/kaggle_test.csv\")\n",
    "print(f'The shape of the kaggle_test is {kaggle_test.shape}.')\n",
    "kaggle_test.head()"
   ],
   "metadata": {
    "collapsed": false,
    "ExecuteTime": {
     "end_time": "2024-01-20T19:59:22.084646600Z",
     "start_time": "2024-01-20T19:59:21.991199600Z"
    }
   },
   "execution_count": 8
  },
  {
   "cell_type": "markdown",
   "source": [
    "# 2. General Methods"
   ],
   "metadata": {
    "collapsed": false
   }
  },
  {
   "cell_type": "code",
   "outputs": [],
   "source": [
    "from sklearn.feature_extraction.text import CountVectorizer\n",
    "from sklearn.feature_extraction.text import TfidfVectorizer\n",
    "from sklearn.preprocessing import LabelEncoder\n",
    "\n",
    "def get_Y(data):\n",
    "    multilabel_binarizer = LabelEncoder()\n",
    "    multilabel_binarizer.fit(data[\"labels\"])\n",
    "    Y = multilabel_binarizer.transform(data[\"labels\"])\n",
    "    print(f'The shape of computed Y is {Y.shape}.')\n",
    "    return Y"
   ],
   "metadata": {
    "collapsed": false,
    "ExecuteTime": {
     "end_time": "2024-01-20T19:59:23.988291100Z",
     "start_time": "2024-01-20T19:59:23.967435Z"
    }
   },
   "execution_count": 9
  },
  {
   "cell_type": "code",
   "outputs": [],
   "source": [
    "from sklearn import metrics\n",
    "\n",
    "def make_predictions(model, X_train, X_test, Y_train, Y_test):\n",
    "    model.fit(X_train, Y_train)\n",
    "    predictions = model.predict(X_test)\n",
    "    print(metrics.classification_report(Y_test, predictions, zero_division=0))\n",
    "    return predictions"
   ],
   "metadata": {
    "collapsed": false,
    "ExecuteTime": {
     "end_time": "2024-01-20T19:59:24.610152Z",
     "start_time": "2024-01-20T19:59:24.598600500Z"
    }
   },
   "execution_count": 10
  },
  {
   "cell_type": "markdown",
   "source": [
    "# 3. Word2Vec Model"
   ],
   "metadata": {
    "collapsed": false
   }
  },
  {
   "cell_type": "code",
   "outputs": [],
   "source": [
    "from gensim.models import Word2Vec \n",
    "\n",
    "def get_Word2Vec_model(vector_size=128, window=10, epochs=30, sg=1, workers=4, min_count=1):\n",
    "    global final_data\n",
    "    \n",
    "    all_texts = [x[0]+ \" \" + x[1] for x in zip(final_data.title,final_data.subtitle)]\n",
    "    word2vec_model = Word2Vec([text.split(\" \") for text in all_texts], vector_size=vector_size, window=window, epochs=epochs, sg=sg, workers=workers, min_count=min_count)\n",
    "    return word2vec_model"
   ],
   "metadata": {
    "collapsed": false,
    "ExecuteTime": {
     "end_time": "2024-01-20T20:01:06.446227600Z",
     "start_time": "2024-01-20T20:01:06.420515600Z"
    }
   },
   "execution_count": 13
  },
  {
   "cell_type": "code",
   "outputs": [],
   "source": [
    "def get_Word2Vec_embeddings(data, model):\n",
    "    embeddings = []\n",
    "    texts = [x[0]+ \" \" + x[1] for x in zip(data.title,data.subtitle)]\n",
    "    for text in texts:\n",
    "        embeddings.append(np.mean([model.wv[word] for word in text.split(\" \")], axis=0))\n",
    "    print(f'The shape of the word embeddings is {np.vstack(embeddings).shape}')\n",
    "    return np.vstack(embeddings)"
   ],
   "metadata": {
    "collapsed": false,
    "ExecuteTime": {
     "end_time": "2024-01-20T20:01:07.805627200Z",
     "start_time": "2024-01-20T20:01:07.782785Z"
    }
   },
   "execution_count": 14
  },
  {
   "cell_type": "code",
   "outputs": [
    {
     "name": "stdout",
     "output_type": "stream",
     "text": [
      "The shape of the word embeddings is (22382, 128)\n",
      "The shape of the word embeddings is (3950, 128)\n"
     ]
    }
   ],
   "source": [
    "model_Word2Vec = get_Word2Vec_model(epochs=1)\n",
    "embeddings_train_Word2Vec = get_Word2Vec_embeddings(train, model_Word2Vec)\n",
    "embeddings_test_Word2Vec = get_Word2Vec_embeddings(test, model_Word2Vec)"
   ],
   "metadata": {
    "collapsed": false,
    "ExecuteTime": {
     "end_time": "2024-01-20T20:01:20.560139100Z",
     "start_time": "2024-01-20T20:01:09.588235800Z"
    }
   },
   "execution_count": 15
  },
  {
   "cell_type": "code",
   "outputs": [
    {
     "name": "stdout",
     "output_type": "stream",
     "text": [
      "The shape of computed Y is (22382,).\n",
      "The shape of computed Y is (3950,).\n",
      "              precision    recall  f1-score   support\n",
      "\n",
      "           0       0.80      0.76      0.78      1899\n",
      "           1       0.77      0.82      0.80      2022\n",
      "           2       0.00      0.00      0.00        29\n",
      "\n",
      "    accuracy                           0.79      3950\n",
      "   macro avg       0.52      0.53      0.53      3950\n",
      "weighted avg       0.78      0.79      0.78      3950\n"
     ]
    }
   ],
   "source": [
    "predictions_Word2Vec = make_predictions(SVC(), embeddings_train_Word2Vec, embeddings_test_Word2Vec, get_Y(train), get_Y(test))"
   ],
   "metadata": {
    "collapsed": false,
    "ExecuteTime": {
     "end_time": "2024-01-20T20:02:54.007819Z",
     "start_time": "2024-01-20T20:01:51.856855500Z"
    }
   },
   "execution_count": 16
  },
  {
   "cell_type": "markdown",
   "source": [
    "# 4. Node2Vec Model"
   ],
   "metadata": {
    "collapsed": false
   }
  },
  {
   "cell_type": "code",
   "outputs": [],
   "source": [
    "def get_node_ids(data: pd.DataFrame):\n",
    "    nodes = {}\n",
    "    for index, row in data.iterrows():\n",
    "        if row[\"index\"] not in nodes:\n",
    "            nodes[row[\"index\"]] = row[\"title\"]\n",
    "    return nodes"
   ],
   "metadata": {
    "collapsed": false,
    "ExecuteTime": {
     "end_time": "2024-01-20T20:02:54.009817800Z",
     "start_time": "2024-01-20T20:02:53.998027200Z"
    }
   },
   "execution_count": 17
  },
  {
   "cell_type": "code",
   "outputs": [
    {
     "name": "stdout",
     "output_type": "stream",
     "text": [
      "27718\n",
      "Number of buckets: 3936.\n",
      "Number of nodes: 27718.\n",
      "Number of edges: 2014162.\n",
      "Number of isolated nodes: 347.\n",
      "Number of nodes after removing isolated nodes: 27371.\n",
      "Number of edges after removing isolated nodes: 2014162.\n"
     ]
    }
   ],
   "source": [
    "from utils import form_graph\n",
    "\n",
    "graph = form_graph(final_data)\n",
    "print(f'Number of nodes: {graph.number_of_nodes()}.')\n",
    "print(f'Number of edges: {graph.number_of_edges()}.')\n",
    "isolated = []\n",
    "for node in graph.nodes:\n",
    "    if len(list(graph.neighbors(node))) == 0:\n",
    "        isolated.append(node)\n",
    "print(f'Number of isolated nodes: {len(isolated)}.')\n",
    "graph.remove_nodes_from(isolated)\n",
    "print(f'Number of nodes after removing isolated nodes: {graph.number_of_nodes()}.')\n",
    "print(f'Number of edges after removing isolated nodes: {graph.number_of_edges()}.')"
   ],
   "metadata": {
    "ExecuteTime": {
     "end_time": "2024-01-20T20:02:59.526334800Z",
     "start_time": "2024-01-20T20:02:54.004817500Z"
    }
   },
   "execution_count": 18
  },
  {
   "cell_type": "code",
   "execution_count": 21,
   "metadata": {
    "ExecuteTime": {
     "end_time": "2024-01-20T20:03:46.158143300Z",
     "start_time": "2024-01-20T20:03:46.141668500Z"
    }
   },
   "outputs": [],
   "source": [
    "import random\n",
    "\n",
    "def random_walks(num_walks: int, walk_length) -> np.ndarray:\n",
    "    global graph\n",
    "    \n",
    "    nodes = list(graph.nodes)\n",
    "    result = np.zeros((len(nodes) * num_walks, walk_length), dtype=np.int32)\n",
    "    for i, node in enumerate(nodes):\n",
    "        print(f\"Random walks for node {i + 1}/{len(nodes)}\", end=\"\\r\")\n",
    "        for j in range(num_walks):\n",
    "            current = node\n",
    "            for k in range(walk_length):\n",
    "                result[i * num_walks + j, k] = current\n",
    "                current = random.choice(list(graph.neighbors(current)))\n",
    "    return np.asarray(result)"
   ]
  },
  {
   "cell_type": "code",
   "outputs": [],
   "source": [
    "def get_Node2Vec_model(num_walks=8, walk_length=15, vector_size=128, window=5, epochs=10) -> Word2Vec:\n",
    "    walks = random_walks(num_walks, walk_length)\n",
    "    print(f'The shape of the walks is {walks.shape}.')\n",
    "    print(walks[:1])\n",
    "    words = []\n",
    "    for walk in walks:\n",
    "        words.append([str(node) for node in walk])\n",
    "    model = Word2Vec(words, vector_size=vector_size, window=window, epochs=epochs, sg=1, workers=4, min_count=1)\n",
    "    return model"
   ],
   "metadata": {
    "collapsed": false,
    "ExecuteTime": {
     "end_time": "2024-01-20T20:03:46.478733900Z",
     "start_time": "2024-01-20T20:03:46.465344600Z"
    }
   },
   "execution_count": 22
  },
  {
   "cell_type": "code",
   "outputs": [],
   "source": [
    "def get_Node2Vec_embeddings(data, model) -> np.ndarray:\n",
    "    global graph, isolated\n",
    "    \n",
    "    nodes = get_node_ids(data)\n",
    "    embeddings = {word: model.wv[word] for word in model.wv.index_to_key}\n",
    "    X_n2v =  np.array([embeddings[str(x)] if x not in isolated else np.zeros(128) for idx, x in enumerate(nodes)], dtype=np.float32)\n",
    "    print(f'The shape of the node embeddings is {X_n2v.shape}.')\n",
    "    return X_n2v"
   ],
   "metadata": {
    "collapsed": false,
    "ExecuteTime": {
     "end_time": "2024-01-20T20:47:57.082211500Z",
     "start_time": "2024-01-20T20:47:57.072440900Z"
    }
   },
   "execution_count": 50
  },
  {
   "cell_type": "code",
   "outputs": [
    {
     "name": "stdout",
     "output_type": "stream",
     "text": [
      "The shape of the walks is (218968, 15).\n",
      "[[    0  8498 19001 26007 16197  6450 21522  7336  3745 15962 13548 23264\n",
      "  18106 22988  3370]]\n"
     ]
    }
   ],
   "source": [
    "model_Node2Vec = get_Node2Vec_model(epochs=1)\n",
    "embeddings_train_Node2Vec = get_Node2Vec_embeddings(train, model_Node2Vec)\n",
    "embeddings_test_Node2Vec = get_Node2Vec_embeddings(test, model_Node2Vec)"
   ],
   "metadata": {
    "collapsed": false,
    "ExecuteTime": {
     "end_time": "2024-01-20T20:04:47.732369900Z",
     "start_time": "2024-01-20T20:04:15.253760700Z"
    }
   },
   "execution_count": 24
  },
  {
   "cell_type": "code",
   "outputs": [
    {
     "name": "stdout",
     "output_type": "stream",
     "text": [
      "The shape of computed Y is (22382,).\n",
      "The shape of computed Y is (3950,).\n",
      "              precision    recall  f1-score   support\n",
      "\n",
      "           0       0.73      0.88      0.79      1899\n",
      "           1       0.85      0.69      0.76      2022\n",
      "           2       0.67      0.07      0.12        29\n",
      "\n",
      "    accuracy                           0.78      3950\n",
      "   macro avg       0.75      0.55      0.56      3950\n",
      "weighted avg       0.79      0.78      0.77      3950\n"
     ]
    },
    {
     "data": {
      "text/plain": "array([0, 0, 1, ..., 0, 1, 0])"
     },
     "execution_count": 25,
     "metadata": {},
     "output_type": "execute_result"
    }
   ],
   "source": [
    "predictions_Node2Vec = make_predictions(SVC(), embeddings_train_Node2Vec, embeddings_test_Node2Vec, get_Y(train), get_Y(test))"
   ],
   "metadata": {
    "collapsed": false,
    "ExecuteTime": {
     "end_time": "2024-01-20T20:05:46.126616500Z",
     "start_time": "2024-01-20T20:04:47.741599Z"
    }
   },
   "execution_count": 25
  },
  {
   "cell_type": "markdown",
   "source": [
    "# 5. Word2vec + Node2vec Model"
   ],
   "metadata": {}
  },
  {
   "cell_type": "code",
   "outputs": [],
   "source": [
    "def combine_embeddings(train, test):\n",
    "    emb_train_Word2Vec = get_Word2Vec_embeddings(train, model_Word2Vec)\n",
    "    emb_test_Word2Vec = get_Word2Vec_embeddings(test, model_Word2Vec)\n",
    "    \n",
    "    embeddings = {word: model_Node2Vec.wv[word] for word in model_Node2Vec.wv.index_to_key}\n",
    "    emb_train_Node2Vec = np.array([embeddings[str(x)] if x not in isolated else emb_train_Word2Vec[idx] for idx, x in enumerate(get_node_ids(train))], dtype=np.float32)\n",
    "    emb_test_Node2Vec = np.array([embeddings[str(x)] if x not in isolated else emb_test_Word2Vec[idx] for idx, x in enumerate(get_node_ids(test))  ], dtype=np.float32)\n",
    "\n",
    "    return np.hstack((emb_train_Word2Vec, emb_train_Node2Vec)), np.hstack((emb_test_Word2Vec, emb_test_Node2Vec))"
   ],
   "metadata": {
    "collapsed": false,
    "ExecuteTime": {
     "end_time": "2024-01-20T20:49:12.144724Z",
     "start_time": "2024-01-20T20:49:12.120361200Z"
    }
   },
   "execution_count": 53
  },
  {
   "cell_type": "code",
   "outputs": [
    {
     "name": "stdout",
     "output_type": "stream",
     "text": [
      "The shape of the word embeddings is (22382, 128)\n",
      "The shape of the word embeddings is (3950, 128)\n",
      "[106, 258, 323, 397, 467, 563, 762, 799, 815, 822, 829, 917, 926, 993, 1096, 1131, 1150, 1305, 1308, 1369, 1519, 1558, 1581, 1632, 1806, 1992, 2076, 2078, 2121, 2182, 2252, 2270, 2331, 2394, 2396, 2472, 2571, 2590, 2658, 2666, 2887, 2975, 3034, 3189, 3220, 3221, 3244, 3290, 3351, 3592, 3601, 3654, 3686, 3694, 3758, 3824, 3895, 3952, 3967, 4015, 4030, 4080, 4214, 4354, 4542, 4678, 4775, 4918, 4923, 4950, 4992, 5004, 5089, 5183, 5222, 5263, 5345, 5359, 5406, 5442, 5451, 5525, 5704, 5789, 5853, 5946, 6025, 6108, 6233, 6357, 6359, 6391, 6418, 6453, 6458, 6473, 6507, 6565, 6864, 7074, 7110, 7155, 7157, 7159, 7205, 7252, 7346, 7391, 7531, 7540, 7583, 7688, 7711, 7975, 7976, 8000, 8074, 8107, 8125, 8329, 8451, 8474, 8501, 8515, 8524, 8587, 8852, 8857, 9126, 9296, 9317, 9656, 9660, 9673, 9735, 9868, 9878, 9915, 9925, 9959, 10075, 10233, 10303, 10434, 10446, 10479, 10536, 10602, 10612, 10633, 10678, 10705, 10728, 10834, 10885, 10914, 10927, 11011, 11088, 11330, 11424, 11454, 11458, 11591, 11621, 11895, 11993, 12292, 12321, 12457, 12458, 12589, 12620, 12684, 12841, 12864, 12926, 13303, 13419, 13532, 13585, 13610, 13775, 13889, 13913, 14028, 14194, 14235, 14333, 14500, 14602, 14980, 15139, 15220, 15301, 15505, 15532, 15638, 15654, 15675, 15730, 15763, 15828, 15959, 16179, 16838, 16923, 16962, 17035, 17043, 17153, 17224, 17369, 17427, 17454, 17742, 17898, 17992, 18025, 18067, 18138, 18290, 18319, 18333, 18409, 18414, 18415, 18429, 18470, 18587, 18588, 18606, 18679, 18716, 18741, 18745, 18938, 19049, 19066, 19095, 19216, 19266, 19293, 19366, 19390, 19393, 19396, 19504, 19585, 19645, 19742, 19851, 19856, 19895, 19964, 19990, 20139, 20226, 20420, 20501, 20549, 20675, 20744, 20842, 20871, 20942, 21027, 21236, 21302, 21350, 21377, 21527, 21599, 21692, 21790, 21825, 21983, 22002, 22008, 22014, 22034, 22081, 22105, 22202, 22338, 22381, 22392, 22395, 22511, 22608, 22644, 22856, 22931, 23058, 23084, 23173, 23225, 23256, 23375, 23414, 23445, 23464, 23901, 23903, 23943, 24068, 24117, 24163, 24297, 24320, 24525, 24620, 24687, 24723, 24786, 24998, 25055, 25104, 25260, 25475, 25721, 25763, 25798, 25844, 25974, 25981, 26087, 26102, 26202, 26318, 26332, 26483, 26566, 26719, 27002, 27064, 27097, 27206, 27216, 27232, 27285, 27286, 27308, 27444, 27463, 27525, 27714]\n",
      "The shape of the combined embeddings is (22382, 256).\n",
      "The shape of the combined embeddings is (3950, 256).\n"
     ]
    }
   ],
   "source": [
    "embeddings_combined_train, embeddings_combined_test = combine_embeddings(train, test)\n",
    "print(f'The shape of the combined embeddings is {embeddings_combined_train.shape}.')\n",
    "print(f'The shape of the combined embeddings is {embeddings_combined_test.shape}.')"
   ],
   "metadata": {
    "ExecuteTime": {
     "end_time": "2024-01-20T20:49:01.143820Z",
     "start_time": "2024-01-20T20:48:56.463134800Z"
    }
   },
   "execution_count": 52
  },
  {
   "cell_type": "code",
   "execution_count": 49,
   "metadata": {
    "ExecuteTime": {
     "end_time": "2024-01-20T20:47:57.081114500Z",
     "start_time": "2024-01-20T20:46:43.545217500Z"
    }
   },
   "outputs": [
    {
     "name": "stdout",
     "output_type": "stream",
     "text": [
      "The shape of computed Y is (22382,).\n",
      "The shape of computed Y is (3950,).\n",
      "              precision    recall  f1-score   support\n",
      "\n",
      "           0       0.78      0.86      0.82      1899\n",
      "           1       0.84      0.78      0.81      2022\n",
      "           2       0.00      0.00      0.00        29\n",
      "\n",
      "    accuracy                           0.81      3950\n",
      "   macro avg       0.54      0.54      0.54      3950\n",
      "weighted avg       0.81      0.81      0.81      3950\n"
     ]
    }
   ],
   "source": [
    "predictions_combined = make_predictions(SVC(), embeddings_combined_train, embeddings_combined_test, get_Y(train), get_Y(test))"
   ]
  },
  {
   "cell_type": "markdown",
   "source": [
    "# 6. Tuning"
   ],
   "metadata": {
    "collapsed": false
   }
  },
  {
   "cell_type": "code",
   "outputs": [],
   "source": [
    "from sklearn.model_selection import GridSearchCV\n",
    "parameters_SVC = {\n",
    "    \"degree\": [2, 3, 4],\n",
    "    \"kernel\": [\"linear\", \"rbf\"],\n",
    "}\n",
    "model = SVC()\n",
    "grid = GridSearchCV(model, parameters_SVC, scoring=\"accuracy\", n_jobs=-1, cv=5, verbose=1)"
   ],
   "metadata": {
    "collapsed": false,
    "ExecuteTime": {
     "end_time": "2024-01-20T19:36:36.058159300Z",
     "start_time": "2024-01-20T19:36:36.043050400Z"
    }
   },
   "execution_count": 42
  },
  {
   "cell_type": "code",
   "outputs": [
    {
     "name": "stdout",
     "output_type": "stream",
     "text": [
      "The shape of the word embeddings is (26332, 128)\n",
      "The shape of the word embeddings is (1386, 128)\n",
      "The shape of the node embeddings is (26332, 128).\n",
      "The shape of the node embeddings is (1386, 128).\n"
     ]
    }
   ],
   "source": [
    "emb_kaggle_train_Word2Vec = get_Word2Vec_embeddings(kaggle_train, model_Word2Vec)\n",
    "emb_kaggle_test_Word2Vec = get_Word2Vec_embeddings(kaggle_test, model_Word2Vec)\n",
    "emb_kaggle_train_Node2Vec = get_Node2Vec_embeddings(kaggle_train, model_Node2Vec)\n",
    "emb_kaggle_test_Node2Vec = get_Node2Vec_embeddings(kaggle_test, model_Node2Vec)\n",
    "embeddings_combined_kaggle_train = np.hstack((emb_kaggle_train_Word2Vec, emb_kaggle_train_Node2Vec))\n",
    "embeddings_combined_kaggle_test = np.hstack((emb_kaggle_test_Word2Vec, emb_kaggle_test_Node2Vec))"
   ],
   "metadata": {
    "collapsed": false,
    "ExecuteTime": {
     "end_time": "2024-01-20T20:10:51.466605600Z",
     "start_time": "2024-01-20T20:10:46.412386900Z"
    }
   },
   "execution_count": 32
  },
  {
   "cell_type": "code",
   "outputs": [],
   "source": [
    "model = SVC(degree=2, kernel=\"linear\")"
   ],
   "metadata": {
    "collapsed": false,
    "ExecuteTime": {
     "end_time": "2024-01-20T20:16:38.076268400Z",
     "start_time": "2024-01-20T20:16:38.065480Z"
    }
   },
   "execution_count": 40
  },
  {
   "cell_type": "code",
   "outputs": [
    {
     "name": "stdout",
     "output_type": "stream",
     "text": [
      "The shape of computed Y is (26332,).\n",
      "The shape of the predictions is (1386,).\n"
     ]
    }
   ],
   "source": [
    "predictions = model.fit(embeddings_combined_kaggle_train, get_Y(kaggle_train)).predict(embeddings_combined_kaggle_test)\n",
    "print(f'The shape of the predictions is {predictions.shape}.')"
   ],
   "metadata": {
    "collapsed": false,
    "ExecuteTime": {
     "end_time": "2024-01-20T20:22:11.345295500Z",
     "start_time": "2024-01-20T20:20:41.251550Z"
    }
   },
   "execution_count": 45
  },
  {
   "cell_type": "code",
   "outputs": [],
   "source": [
    "with open(\"submission.csv\", \"w\") as f:\n",
    "    f.write(\"Index,Label\\n\")\n",
    "    multilabel_binarizer = LabelEncoder()\n",
    "    multilabel_binarizer.fit(train[\"labels\"])\n",
    "    labels = multilabel_binarizer.inverse_transform(predictions)\n",
    "    for i, prediction in enumerate(predictions):\n",
    "        f.write(f\"{i},{labels[i]}\\n\")"
   ],
   "metadata": {
    "collapsed": false,
    "ExecuteTime": {
     "end_time": "2024-01-20T20:22:11.348465100Z",
     "start_time": "2024-01-20T20:22:11.341080600Z"
    }
   },
   "execution_count": 46
  },
  {
   "cell_type": "code",
   "outputs": [],
   "source": [],
   "metadata": {
    "collapsed": false
   }
  }
 ],
 "metadata": {
  "kernelspec": {
   "display_name": "Python 3 (ipykernel)",
   "language": "python",
   "name": "python3"
  },
  "language_info": {
   "codemirror_mode": {
    "name": "ipython",
    "version": 3
   },
   "file_extension": ".py",
   "mimetype": "text/x-python",
   "name": "python",
   "nbconvert_exporter": "python",
   "pygments_lexer": "ipython3",
   "version": "3.11.0"
  }
 },
 "nbformat": 4,
 "nbformat_minor": 4
}
